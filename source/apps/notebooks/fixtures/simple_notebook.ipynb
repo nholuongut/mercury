{
 "cells": [
  {
   "cell_type": "raw",
   "id": "1a689619-7eeb-4252-b08b-768f625d7619",
   "metadata": {},
   "source": [
    "---\n",
    "title: My Simple\n",
    "description: Very simple notebook to show how Mercury works. Perfect for start.\n",
    "author: Piotr\n",
    "date: 2021-12-10\n",
    "params:\n",
    "    year:\n",
    "        input: slider\n",
    "        label: Select year\n",
    "        min: 2010\n",
    "        max: 2050\n",
    "        value: 2021\n",
    "    country:\n",
    "        input: select\n",
    "        value: Poland\n",
    "        choices: [Poland, UK, USA, France]\n",
    "        label: Select country\n",
    "    var_range:\n",
    "        input: range\n",
    "        label: Select range\n",
    "        \n",
    "---"
   ]
  },
  {
   "cell_type": "markdown",
   "id": "565d959a-27cb-4d06-9985-ab53d0cc63f6",
   "metadata": {},
   "source": [
    "# Test (updated)\n",
    "\n",
    "This is an example notebook\n",
    "\n",
    "## No parameters\n",
    "\n",
    "Right now there are now parameters, just run"
   ]
  },
  {
   "cell_type": "code",
   "execution_count": 16,
   "id": "ee93855a-76b0-477b-8056-353b3f516924",
   "metadata": {},
   "outputs": [],
   "source": [
    "import numpy as np\n",
    "import pandas as pd \n",
    "\n",
    "df = pd.DataFrame(np.random.rand(100, 5), columns=[\"a\", \"b\", \"c\", \"d\", \"e\"])"
   ]
  },
  {
   "cell_type": "code",
   "execution_count": 13,
   "id": "58fb4e2c-8634-4185-9622-ba66a2dcfdda",
   "metadata": {},
   "outputs": [
    {
     "data": {
      "text/html": [
       "<div>\n",
       "<style scoped>\n",
       "    .dataframe tbody tr th:only-of-type {\n",
       "        vertical-align: middle;\n",
       "    }\n",
       "\n",
       "    .dataframe tbody tr th {\n",
       "        vertical-align: top;\n",
       "    }\n",
       "\n",
       "    .dataframe thead th {\n",
       "        text-align: right;\n",
       "    }\n",
       "</style>\n",
       "<table border=\"1\" class=\"dataframe\">\n",
       "  <thead>\n",
       "    <tr style=\"text-align: right;\">\n",
       "      <th></th>\n",
       "      <th>a</th>\n",
       "      <th>b</th>\n",
       "      <th>c</th>\n",
       "      <th>d</th>\n",
       "      <th>e</th>\n",
       "    </tr>\n",
       "  </thead>\n",
       "  <tbody>\n",
       "    <tr>\n",
       "      <th>0</th>\n",
       "      <td>0.255040</td>\n",
       "      <td>0.614577</td>\n",
       "      <td>0.163844</td>\n",
       "      <td>0.871512</td>\n",
       "      <td>0.982922</td>\n",
       "    </tr>\n",
       "    <tr>\n",
       "      <th>1</th>\n",
       "      <td>0.753082</td>\n",
       "      <td>0.737448</td>\n",
       "      <td>0.340134</td>\n",
       "      <td>0.060951</td>\n",
       "      <td>0.278219</td>\n",
       "    </tr>\n",
       "    <tr>\n",
       "      <th>2</th>\n",
       "      <td>0.251174</td>\n",
       "      <td>0.032595</td>\n",
       "      <td>0.491128</td>\n",
       "      <td>0.010542</td>\n",
       "      <td>0.740459</td>\n",
       "    </tr>\n",
       "    <tr>\n",
       "      <th>3</th>\n",
       "      <td>0.113220</td>\n",
       "      <td>0.213564</td>\n",
       "      <td>0.170346</td>\n",
       "      <td>0.750587</td>\n",
       "      <td>0.900230</td>\n",
       "    </tr>\n",
       "    <tr>\n",
       "      <th>4</th>\n",
       "      <td>0.303466</td>\n",
       "      <td>0.733240</td>\n",
       "      <td>0.708607</td>\n",
       "      <td>0.957383</td>\n",
       "      <td>0.058355</td>\n",
       "    </tr>\n",
       "    <tr>\n",
       "      <th>...</th>\n",
       "      <td>...</td>\n",
       "      <td>...</td>\n",
       "      <td>...</td>\n",
       "      <td>...</td>\n",
       "      <td>...</td>\n",
       "    </tr>\n",
       "    <tr>\n",
       "      <th>95</th>\n",
       "      <td>0.717280</td>\n",
       "      <td>0.138960</td>\n",
       "      <td>0.900601</td>\n",
       "      <td>0.053225</td>\n",
       "      <td>0.286964</td>\n",
       "    </tr>\n",
       "    <tr>\n",
       "      <th>96</th>\n",
       "      <td>0.414760</td>\n",
       "      <td>0.738950</td>\n",
       "      <td>0.118290</td>\n",
       "      <td>0.740507</td>\n",
       "      <td>0.157526</td>\n",
       "    </tr>\n",
       "    <tr>\n",
       "      <th>97</th>\n",
       "      <td>0.505411</td>\n",
       "      <td>0.163696</td>\n",
       "      <td>0.942054</td>\n",
       "      <td>0.558562</td>\n",
       "      <td>0.685508</td>\n",
       "    </tr>\n",
       "    <tr>\n",
       "      <th>98</th>\n",
       "      <td>0.990946</td>\n",
       "      <td>0.990682</td>\n",
       "      <td>0.367041</td>\n",
       "      <td>0.112801</td>\n",
       "      <td>0.537230</td>\n",
       "    </tr>\n",
       "    <tr>\n",
       "      <th>99</th>\n",
       "      <td>0.359366</td>\n",
       "      <td>0.943180</td>\n",
       "      <td>0.696210</td>\n",
       "      <td>0.957429</td>\n",
       "      <td>0.306914</td>\n",
       "    </tr>\n",
       "  </tbody>\n",
       "</table>\n",
       "<p>100 rows × 5 columns</p>\n",
       "</div>"
      ],
      "text/plain": [
       "           a         b         c         d         e\n",
       "0   0.255040  0.614577  0.163844  0.871512  0.982922\n",
       "1   0.753082  0.737448  0.340134  0.060951  0.278219\n",
       "2   0.251174  0.032595  0.491128  0.010542  0.740459\n",
       "3   0.113220  0.213564  0.170346  0.750587  0.900230\n",
       "4   0.303466  0.733240  0.708607  0.957383  0.058355\n",
       "..       ...       ...       ...       ...       ...\n",
       "95  0.717280  0.138960  0.900601  0.053225  0.286964\n",
       "96  0.414760  0.738950  0.118290  0.740507  0.157526\n",
       "97  0.505411  0.163696  0.942054  0.558562  0.685508\n",
       "98  0.990946  0.990682  0.367041  0.112801  0.537230\n",
       "99  0.359366  0.943180  0.696210  0.957429  0.306914\n",
       "\n",
       "[100 rows x 5 columns]"
      ]
     },
     "execution_count": 13,
     "metadata": {},
     "output_type": "execute_result"
    }
   ],
   "source": [
    "df"
   ]
  },
  {
   "cell_type": "code",
   "execution_count": null,
   "id": "d5547088-2234-4d6b-ba0a-4e719fb3d347",
   "metadata": {},
   "outputs": [],
   "source": [
    "from matplotlib import pyplot as plt"
   ]
  },
  {
   "cell_type": "code",
   "execution_count": 3,
   "id": "6ce44ab0-4900-4ad2-bf06-91c03d366c66",
   "metadata": {},
   "outputs": [],
   "source": [
    "a = 2"
   ]
  },
  {
   "cell_type": "code",
   "execution_count": 4,
   "id": "7f5682e9-4af0-47db-907e-90cafcfcbdcc",
   "metadata": {},
   "outputs": [
    {
     "name": "stdout",
     "output_type": "stream",
     "text": [
      "2\n"
     ]
    }
   ],
   "source": [
    "print(a)"
   ]
  },
  {
   "cell_type": "code",
   "execution_count": 1,
   "id": "337ba2e9-3b3a-4a1b-b376-6818b5f5debf",
   "metadata": {},
   "outputs": [
    {
     "ename": "NameError",
     "evalue": "name 'plt' is not defined",
     "output_type": "error",
     "traceback": [
      "\u001b[0;31m---------------------------------------------------------------------------\u001b[0m",
      "\u001b[0;31mNameError\u001b[0m                                 Traceback (most recent call last)",
      "\u001b[0;32m/tmp/ipykernel_23262/673419033.py\u001b[0m in \u001b[0;36m<module>\u001b[0;34m\u001b[0m\n\u001b[0;32m----> 1\u001b[0;31m \u001b[0mplt\u001b[0m\u001b[0;34m.\u001b[0m\u001b[0mplot\u001b[0m\u001b[0;34m(\u001b[0m\u001b[0;34m[\u001b[0m\u001b[0;36m1\u001b[0m\u001b[0;34m,\u001b[0m\u001b[0;36m2\u001b[0m\u001b[0;34m,\u001b[0m\u001b[0;36m3\u001b[0m\u001b[0;34m]\u001b[0m\u001b[0;34m)\u001b[0m\u001b[0;34m\u001b[0m\u001b[0;34m\u001b[0m\u001b[0m\n\u001b[0m",
      "\u001b[0;31mNameError\u001b[0m: name 'plt' is not defined"
     ]
    }
   ],
   "source": [
    "plt.plot([1,2,3])"
   ]
  },
  {
   "cell_type": "code",
   "execution_count": null,
   "id": "b04de33e-2c77-447f-83e7-c4258b9b98ee",
   "metadata": {},
   "outputs": [],
   "source": []
  }
 ],
 "metadata": {
  "kernelspec": {
   "display_name": "Python 3 (ipykernel)",
   "language": "python",
   "name": "python3"
  },
  "language_info": {
   "codemirror_mode": {
    "name": "ipython",
    "version": 3
   },
   "file_extension": ".py",
   "mimetype": "text/x-python",
   "name": "python",
   "nbconvert_exporter": "python",
   "pygments_lexer": "ipython3",
   "version": "3.9.5"
  }
 },
 "nbformat": 4,
 "nbformat_minor": 5
}
